{
 "cells": [
  {
   "cell_type": "code",
   "execution_count": 1,
   "metadata": {},
   "outputs": [],
   "source": [
    "def linear_search(list, target):\n",
    "    \"\"\"\n",
    "    Returns the index position of the target if found, else returns none.\n",
    "    \"\"\"\n",
    "\n",
    "    for i in range(0, len(list)):\n",
    "        if list[i] == target:\n",
    "            return i\n",
    "    return None"
   ]
  },
  {
   "cell_type": "code",
   "execution_count": 2,
   "metadata": {},
   "outputs": [],
   "source": [
    "def verify(index):\n",
    "    if index is not None:\n",
    "        print(\"Target found at index: \", index)\n",
    "    else:\n",
    "        print(\"Target not found in list\")\n"
   ]
  },
  {
   "cell_type": "code",
   "execution_count": 3,
   "metadata": {},
   "outputs": [
    {
     "name": "stdout",
     "output_type": "stream",
     "text": [
      "Target not found in list\n"
     ]
    }
   ],
   "source": [
    "numbers = [1, 2, 3, 4, 5, 6, 7, 8, 9, 10]\n",
    "\n",
    "result = linear_search(numbers, 12)\n",
    "verify(result)"
   ]
  },
  {
   "cell_type": "code",
   "execution_count": 15,
   "metadata": {},
   "outputs": [
    {
     "name": "stdout",
     "output_type": "stream",
     "text": [
      "-2 -2\n",
      "-2 0\n",
      "-2 10\n",
      "-2 -19\n",
      "-2 4\n",
      "-2 6\n",
      "-2 -8\n",
      "0 -2\n",
      "0 0\n",
      "0 10\n",
      "0 -19\n",
      "0 4\n",
      "0 6\n",
      "0 -8\n",
      "10 -2\n",
      "10 0\n",
      "10 10\n",
      "10 -19\n",
      "10 4\n",
      "10 6\n",
      "10 -8\n",
      "-19 -2\n",
      "-19 0\n",
      "-19 10\n",
      "-19 -19\n",
      "-19 4\n",
      "-19 6\n",
      "-19 -8\n",
      "4 -2\n",
      "4 0\n",
      "4 10\n",
      "4 -19\n",
      "4 4\n",
      "4 6\n",
      "4 -8\n",
      "6 -2\n",
      "6 0\n",
      "6 10\n",
      "6 -19\n",
      "6 4\n",
      "6 6\n",
      "6 -8\n",
      "-8 -2\n",
      "-8 0\n",
      "-8 10\n",
      "-8 -19\n",
      "-8 4\n",
      "-8 6\n",
      "-8 -8\n"
     ]
    }
   ],
   "source": [
    "arr = [-2,0,10,-19,4,6,-8]\n",
    "\n",
    "for i in range(len(arr)):\n",
    "    for j in range(len(arr)):\n",
    "        print(arr[i],arr[j])"
   ]
  },
  {
   "cell_type": "code",
   "execution_count": 37,
   "metadata": {},
   "outputs": [
    {
     "data": {
      "text/plain": [
       "True"
      ]
     },
     "execution_count": 37,
     "metadata": {},
     "output_type": "execute_result"
    }
   ],
   "source": [
    "arr = [0,3,2,1]\n",
    "\n",
    "def validMountainArray(arr):\n",
    "\n",
    "    N = len(arr)\n",
    "    i = 0\n",
    "\n",
    "    if len(arr) < 3: return False\n",
    "\n",
    "    if arr.index(max(arr)) == 0 or arr.index(max(arr)) == N-1:\n",
    "        return False\n",
    "\n",
    "\n",
    "    while i < N and arr[i] < arr[i + 1]:\n",
    "        i += 1\n",
    "\n",
    "    while i < N -1 and arr[i] > arr[i + 1]:\n",
    "        i += 1\n",
    "\n",
    "\n",
    "    return i == N-1\n",
    "\n",
    "validMountainArray(arr)"
   ]
  },
  {
   "cell_type": "code",
   "execution_count": 1,
   "metadata": {},
   "outputs": [],
   "source": [
    "class Node:\n",
    "    \"\"\"\n",
    "    An object for storing a single node of a linked list. \n",
    "    Models two attributes - data and link to the node\n",
    "    \"\"\"\n",
    "    data = None\n",
    "    next_node = None"
   ]
  },
  {
   "cell_type": "code",
   "execution_count": null,
   "metadata": {},
   "outputs": [],
   "source": []
  }
 ],
 "metadata": {
  "kernelspec": {
   "display_name": "Python 3.8.6 64-bit",
   "language": "python",
   "name": "python3"
  },
  "language_info": {
   "codemirror_mode": {
    "name": "ipython",
    "version": 3
   },
   "file_extension": ".py",
   "mimetype": "text/x-python",
   "name": "python",
   "nbconvert_exporter": "python",
   "pygments_lexer": "ipython3",
   "version": "3.8.6"
  },
  "orig_nbformat": 4,
  "vscode": {
   "interpreter": {
    "hash": "3d7b01e22dc9f5355780352d099f0a3f23e5483e6f8a88e0a8bfdd7a752d08bb"
   }
  }
 },
 "nbformat": 4,
 "nbformat_minor": 2
}
